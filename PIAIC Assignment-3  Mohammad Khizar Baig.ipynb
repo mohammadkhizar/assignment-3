{
 "cells": [
  {
   "cell_type": "markdown",
   "metadata": {},
   "source": [
    "# Q1:\n",
    "\n",
    "Think of at least three kinds of your favorite pizza. Store these pizza names in a list, and then use a for loop to print the name of each pizza."
   ]
  },
  {
   "cell_type": "code",
   "execution_count": 1,
   "metadata": {},
   "outputs": [],
   "source": [
    "pizza_list = [\"Bbq pizza\",\"Italian pizza\",\"Pepperoni pizza\"]"
   ]
  },
  {
   "cell_type": "code",
   "execution_count": 2,
   "metadata": {},
   "outputs": [
    {
     "name": "stdout",
     "output_type": "stream",
     "text": [
      "Bbq pizza\n",
      "Italian pizza\n",
      "Pepperoni pizza\n"
     ]
    }
   ],
   "source": [
    "for x in pizza_list:\n",
    "    print(x)"
   ]
  },
  {
   "cell_type": "markdown",
   "metadata": {},
   "source": [
    "# Q2:\n",
    "\n",
    "Start with your last question , Modify your for loop to print a sentence using the name of the pizza instead of printing just the name of the pizza. For each pizza you should have one line of output containing a simple statement like I like pepperoni pizza."
   ]
  },
  {
   "cell_type": "code",
   "execution_count": 3,
   "metadata": {},
   "outputs": [
    {
     "name": "stdout",
     "output_type": "stream",
     "text": [
      "I like Bbq pizza \n",
      "I like Italian pizza \n",
      "I like Pepperoni pizza \n"
     ]
    }
   ],
   "source": [
    "for x in pizza_list:\n",
    "    print(f\"I like {x} \")"
   ]
  },
  {
   "cell_type": "markdown",
   "metadata": {},
   "source": [
    "# Q3:\n",
    "\n",
    "Use a for loop to print the numbers from 1 to 20, inclusive."
   ]
  },
  {
   "cell_type": "code",
   "execution_count": 4,
   "metadata": {},
   "outputs": [
    {
     "name": "stdout",
     "output_type": "stream",
     "text": [
      "1\n",
      "2\n",
      "3\n",
      "4\n",
      "5\n",
      "6\n",
      "7\n",
      "8\n",
      "9\n",
      "10\n",
      "11\n",
      "12\n",
      "13\n",
      "14\n",
      "15\n",
      "16\n",
      "17\n",
      "18\n",
      "19\n",
      "20\n"
     ]
    }
   ],
   "source": [
    "for x in range(1,21):\n",
    "    print(x)"
   ]
  },
  {
   "cell_type": "markdown",
   "metadata": {},
   "source": [
    "# Q4:\n",
    "\n",
    "Use the third argument of the range() function to make a list of the odd numbers from 1 to 20. Use a for loop to print each number."
   ]
  },
  {
   "cell_type": "code",
   "execution_count": 5,
   "metadata": {},
   "outputs": [
    {
     "name": "stdout",
     "output_type": "stream",
     "text": [
      "1\n",
      "3\n",
      "5\n",
      "7\n",
      "9\n",
      "11\n",
      "13\n",
      "15\n",
      "17\n",
      "19\n"
     ]
    }
   ],
   "source": [
    "for x in range(1,20,2):\n",
    "    print(x)"
   ]
  },
  {
   "cell_type": "markdown",
   "metadata": {},
   "source": [
    "# Q5:\n",
    "    \n",
    "Make a list of the multiples of 3 from 3 to 30. Use a for loop to print the numbers in your list."
   ]
  },
  {
   "cell_type": "code",
   "execution_count": 6,
   "metadata": {},
   "outputs": [
    {
     "name": "stdout",
     "output_type": "stream",
     "text": [
      "3 * 1 = 3\n",
      "3 * 2 = 6\n",
      "3 * 3 = 9\n",
      "3 * 4 = 12\n",
      "3 * 5 = 15\n",
      "3 * 6 = 18\n",
      "3 * 7 = 21\n",
      "3 * 8 = 24\n",
      "3 * 9 = 27\n",
      "3 * 10 = 30\n"
     ]
    }
   ],
   "source": [
    "for x in range(1,11):\n",
    "    print(f\"{3} * {x} = {3*x}\")"
   ]
  },
  {
   "cell_type": "markdown",
   "metadata": {},
   "source": [
    "# Q6:\n",
    "A number raised to the third power is called a cube. For example, the cube of 2 is written as 2**3 in Python. Make a list of the first 10 cubes (that is, the cube of each integer from 1 through 10), and use a for loop to print out the value of each cube."
   ]
  },
  {
   "cell_type": "code",
   "execution_count": 7,
   "metadata": {},
   "outputs": [
    {
     "name": "stdout",
     "output_type": "stream",
     "text": [
      "Cube of 1 is 1\n",
      "Cube of 2 is 8\n",
      "Cube of 3 is 27\n",
      "Cube of 4 is 64\n",
      "Cube of 5 is 125\n",
      "Cube of 6 is 216\n",
      "Cube of 7 is 343\n",
      "Cube of 8 is 512\n",
      "Cube of 9 is 729\n",
      "Cube of 10 is 1000\n"
     ]
    }
   ],
   "source": [
    "for x in range(1,11):\n",
    "    print(f\"Cube of {x} is {x**3}\")"
   ]
  },
  {
   "cell_type": "markdown",
   "metadata": {},
   "source": [
    "# Q7:\n",
    "\n",
    "Make a python program that conatains your nine favourite dishes in a list called foods.\n",
    "\n",
    "Print the message, The first three items in the list are:\n",
    "\n",
    "Then use a slice to print the first three items from that program’s list.\n",
    "\n",
    "Print the message, Three items from the middle of the list are:\n",
    "\n",
    "Use a slice to print three items from the middle of the list.\n",
    "\n",
    "Print the message, The last three items in the list are:\n",
    "\n",
    "Use a slice to print the last three items in the list.\n"
   ]
  },
  {
   "cell_type": "code",
   "execution_count": 33,
   "metadata": {},
   "outputs": [],
   "source": [
    "foods = [\"Biryani\",\"Nihari\",\"Korma\",\"Bbq\",\"Daal chawal\",\"bhindi\",\"Haleem\",\"Manchurian\",\"Lasagnya\"]"
   ]
  },
  {
   "cell_type": "code",
   "execution_count": 9,
   "metadata": {},
   "outputs": [
    {
     "name": "stdout",
     "output_type": "stream",
     "text": [
      "The first three items in the list are:\n",
      "Biryani\n",
      "Nihari\n",
      "Korma\n"
     ]
    }
   ],
   "source": [
    "print(\"The first three items in the list are:\")\n",
    "for x in foods[0:3]:\n",
    "    print(x)"
   ]
  },
  {
   "cell_type": "code",
   "execution_count": 10,
   "metadata": {},
   "outputs": [
    {
     "name": "stdout",
     "output_type": "stream",
     "text": [
      "Three items from the middle of the list are:\n",
      "Bbq\n",
      "Daal chawal\n",
      "bhindi\n"
     ]
    }
   ],
   "source": [
    "print(\"Three items from the middle of the list are:\")\n",
    "for x in foods[3:6]:\n",
    "    print(x)"
   ]
  },
  {
   "cell_type": "code",
   "execution_count": 11,
   "metadata": {},
   "outputs": [
    {
     "name": "stdout",
     "output_type": "stream",
     "text": [
      "The last three items in the list are:\n",
      "Haleem\n",
      "Manchurian\n",
      "Lasagna\n"
     ]
    }
   ],
   "source": [
    "print(\"The last three items in the list are:\")\n",
    "for x in foods[6:9]:\n",
    "    print(x)"
   ]
  },
  {
   "cell_type": "markdown",
   "metadata": {},
   "source": [
    "# Q8:\n",
    "\n",
    "\n",
    "Start with your program from your last Question8.\n",
    "\n",
    "Make a copy of the list of foods, and call it friend_foods.\n",
    "\n",
    "Then, do the following:\n",
    "\n",
    "Add a new dish to the original list.\n",
    "\n",
    "Add a different dish to the list friend_foods.\n",
    "\n",
    "Prove that you have two separate lists.\n",
    "\n",
    "Print the message, My favorite pizzas are: and then use a for loop to print the first list.\n",
    "\n",
    "My friend’s favorite foods are:, and then use a for loop to print the second list.\n",
    "\n",
    "NOTE: \n",
    "\n",
    "Make sure each new dish is stored in the appropriate list."
   ]
  },
  {
   "cell_type": "code",
   "execution_count": 12,
   "metadata": {},
   "outputs": [],
   "source": [
    "friend_foods = foods"
   ]
  },
  {
   "cell_type": "code",
   "execution_count": 13,
   "metadata": {},
   "outputs": [],
   "source": [
    "foods.append(\"Handi\")\n",
    "friend_foods.append(\"Karahi\")"
   ]
  },
  {
   "cell_type": "code",
   "execution_count": 14,
   "metadata": {},
   "outputs": [
    {
     "name": "stdout",
     "output_type": "stream",
     "text": [
      "My favourite foods are:\n",
      "Biryani\n",
      "Nihari\n",
      "Korma\n",
      "Bbq\n",
      "Daal chawal\n",
      "bhindi\n",
      "Haleem\n",
      "Manchurian\n",
      "Lasagna\n",
      "Handi\n",
      "Karahi\n"
     ]
    }
   ],
   "source": [
    "print(\"My favourite foods are:\")\n",
    "for x in foods:\n",
    "    print(x)"
   ]
  },
  {
   "cell_type": "code",
   "execution_count": 15,
   "metadata": {},
   "outputs": [
    {
     "name": "stdout",
     "output_type": "stream",
     "text": [
      "My friend's favourite foods are:\n",
      "Biryani\n",
      "Nihari\n",
      "Korma\n",
      "Bbq\n",
      "Daal chawal\n",
      "bhindi\n",
      "Haleem\n",
      "Manchurian\n",
      "Lasagna\n",
      "Handi\n",
      "Karahi\n"
     ]
    }
   ],
   "source": [
    "print(\"My friend's favourite foods are:\")\n",
    "for x in friend_foods:\n",
    "    print(x)"
   ]
  },
  {
   "cell_type": "markdown",
   "metadata": {},
   "source": [
    "# Q9:\n",
    "\n",
    "    \n",
    "Take a user input from console line.Store it in a variable called Alien_color.\n",
    "\n",
    "\n",
    "If the alien’s color is red, print a statement that the player just earned 5 points for shooting the alien.\n",
    "\n",
    "\n",
    "If the alien’s color is green, print a statement that the player just earned 10 points.\n",
    "\n",
    "\n",
    "If the alien's color isn't red or green , print a statment :, Alien is no more....."
   ]
  },
  {
   "cell_type": "code",
   "execution_count": 18,
   "metadata": {},
   "outputs": [
    {
     "name": "stdout",
     "output_type": "stream",
     "text": [
      "Enter the color = green\n"
     ]
    }
   ],
   "source": [
    "alien_color = input(\"Enter the color = \").lower()"
   ]
  },
  {
   "cell_type": "code",
   "execution_count": 19,
   "metadata": {},
   "outputs": [
    {
     "name": "stdout",
     "output_type": "stream",
     "text": [
      "The player just earned 10 points for shooting the alien\n"
     ]
    }
   ],
   "source": [
    "if alien_color==\"red\":\n",
    "    print(\"The player just earned 5 points for shooting the alien\")\n",
    "elif alien_color==\"green\":\n",
    "    print(\"The player just earned 10 points for shooting the alien\")\n",
    "else:\n",
    "    print(\"Alien is no more\")"
   ]
  },
  {
   "cell_type": "markdown",
   "metadata": {},
   "source": [
    "# Q10:\n",
    "\n",
    "\n",
    "Write an if-elif-else chain that determines a person’s stage of life. Set a value for the variable age, and then:\n",
    "\n",
    "\n",
    "• If the person is less than 2 years old, print a message that the person is a baby.\n",
    "\n",
    "\n",
    "• If the person is at least 2 years old but less than 4, print a message that the person is a toddler.\n",
    "\n",
    "\n",
    "• If the person is at least 4 years old but less than 13, print a message that the person is a kid.\n",
    "\n",
    "\n",
    "• If the person is at least 13 years old but less than 20, print a message that the person is a teenager.\n",
    "\n",
    "\n",
    "• If the person is at least 20 years old but less than 65, print a message that the person is an adult.\n",
    "\n",
    "\n",
    "• If the person is age 65 or older, print a message that the person is an elder.\n",
    "\n"
   ]
  },
  {
   "cell_type": "code",
   "execution_count": 20,
   "metadata": {},
   "outputs": [
    {
     "name": "stdout",
     "output_type": "stream",
     "text": [
      "Enter your age = 20\n"
     ]
    }
   ],
   "source": [
    "age = int(input(\"Enter your age = \"))"
   ]
  },
  {
   "cell_type": "code",
   "execution_count": 21,
   "metadata": {},
   "outputs": [
    {
     "name": "stdout",
     "output_type": "stream",
     "text": [
      "You are an adult.\n"
     ]
    }
   ],
   "source": [
    "if age<2:\n",
    "    print(\"You are a baby.\")\n",
    "elif age>=2 and age<4:\n",
    "    print(\"You are a toddler.\")\n",
    "elif age>=4 and age<13:\n",
    "    print(\"You are a kid.\")\n",
    "elif age>=13 and age<20:\n",
    "    print(\"You are a teenager.\")\n",
    "elif age>=20 and age<65:\n",
    "    print(\"You are an adult.\")\n",
    "elif age>=65:\n",
    "    print(\"You are an elder.\")\n"
   ]
  },
  {
   "cell_type": "markdown",
   "metadata": {},
   "source": [
    "# Q11:\n",
    "\n",
    "\n",
    "Do the following to create a program that simulates how websites ensure that everyone has a unique username.\n",
    "\n",
    "\n",
    "• Make a list of five or more usernames called current_users.\n",
    "\n",
    "\n",
    "• Make another list of five usernames called new_users. Make sure one or two of the new usernames are also in the current_users list.\n",
    "\n",
    "\n",
    "• Loop through the new_users list to see if each new username has already been used. If it has, print a message that the person will need to enter a new username. If a username has not been used, print a message saying that the username is available.\n",
    "\n",
    "\n",
    "• Make sure your comparison is case insensitive. If 'John' has been used, 'JOHN' should not be accepted."
   ]
  },
  {
   "cell_type": "code",
   "execution_count": 22,
   "metadata": {},
   "outputs": [
    {
     "name": "stdout",
     "output_type": "stream",
     "text": [
      "Ali username is available.\n",
      "Khizram username has already taken enter a new username.\n",
      "Majid username is available.\n",
      "WALI username has already taken enter a new username.\n",
      "Aziz username is available.\n"
     ]
    }
   ],
   "source": [
    "current_users = [\"Bilal\",\"Khizram\",\"Anas\",\"Wali\",\"Zahid\"]\n",
    "new_users = [\"Ali\",\"Khizram\",\"Majid\",\"WALI\",\"Aziz\"]\n",
    "for x in new_users:\n",
    "    i = len(current_users)-1\n",
    "    while i>=0: \n",
    "        if x.lower() == current_users[i].lower():\n",
    "            print(f\"{x} username has already taken enter a new username.\")\n",
    "            break;\n",
    "        i-=1\n",
    "    if i<0:\n",
    "         print(f\"{x} username is available.\")"
   ]
  },
  {
   "cell_type": "markdown",
   "metadata": {},
   "source": [
    "# Q12:\n",
    "\n",
    "Use a dictionary to store information about a person you know. Store their first name, last name, age, and the city in which they live. You should have keys such as first_name, last_name, age, and city. Print each piece of information stored in your dictionary.."
   ]
  },
  {
   "cell_type": "code",
   "execution_count": 25,
   "metadata": {},
   "outputs": [],
   "source": [
    "info = {\"first_name\":\"Mohammad\" , \"last_name\":\"Khizar Baig\" , \"age\":20 , \"city\":\"Karachi\"}"
   ]
  },
  {
   "cell_type": "code",
   "execution_count": 26,
   "metadata": {},
   "outputs": [
    {
     "name": "stdout",
     "output_type": "stream",
     "text": [
      "first_name = Mohammad\n",
      "last_name = Khizar Baig\n",
      "age = 20\n",
      "city = Karachi\n"
     ]
    }
   ],
   "source": [
    "for k,v in info.items():\n",
    "    print(f\"{k} = {v}\")"
   ]
  },
  {
   "cell_type": "markdown",
   "metadata": {},
   "source": [
    "# Q13:\n",
    "\n",
    "\n",
    "Starts with your last question 12 , loop through the dictionary’s keys and values. When you’re sure that your loop works, add five more Python terms to your dictionary . When you run your program again, these new words and meanings should automatically be included in the output."
   ]
  },
  {
   "cell_type": "code",
   "execution_count": 27,
   "metadata": {},
   "outputs": [
    {
     "name": "stdout",
     "output_type": "stream",
     "text": [
      "first_name = Mohammad\n",
      "last_name = Khizar Baig\n",
      "age = 20\n",
      "city = Karachi\n"
     ]
    }
   ],
   "source": [
    "for k,v in info.items():\n",
    "    print(f\"{k} = {v}\")"
   ]
  },
  {
   "cell_type": "code",
   "execution_count": 28,
   "metadata": {},
   "outputs": [],
   "source": [
    "info[\"num\"] = \"012345\"\n",
    "info[\"gender\"] = \"Male\"\n",
    "info[\"father's name\"] = \"Mirza Akbar Baig\"\n",
    "info[\"religion\"]  = \"Islam\"\n",
    "info[\"nationality\"] = \"Pakistani\""
   ]
  },
  {
   "cell_type": "code",
   "execution_count": 29,
   "metadata": {},
   "outputs": [
    {
     "name": "stdout",
     "output_type": "stream",
     "text": [
      "first_name = Mohammad\n",
      "last_name = Khizar Baig\n",
      "age = 20\n",
      "city = Karachi\n",
      "num = 012345\n",
      "gender = Male\n",
      "father's name = Mirza Akbar Baig\n",
      "religion = Islam\n",
      "nationality = Pakistani\n"
     ]
    }
   ],
   "source": [
    "for k,v in info.items():\n",
    "    print(f\"{k} = {v}\")"
   ]
  },
  {
   "cell_type": "markdown",
   "metadata": {},
   "source": [
    "# Q14:\n",
    "    \n",
    "    \n",
    "Make a dictionary containing three major rivers and the country each river runs through. One key-value pair might be 'nile': 'egypt'.\n",
    "\n",
    "\n",
    "• Use a loop to print a sentence about each river, such as The Nile runs through Egypt.\n",
    "\n",
    "\n",
    "\n",
    "NOTE: use upper case through keys and values."
   ]
  },
  {
   "cell_type": "code",
   "execution_count": 30,
   "metadata": {},
   "outputs": [],
   "source": [
    "rivers = {\"amazon\":\"brazil\" , \"nile\":\"egypt\" , \"yangtze\":\"china\"}"
   ]
  },
  {
   "cell_type": "code",
   "execution_count": 31,
   "metadata": {},
   "outputs": [
    {
     "name": "stdout",
     "output_type": "stream",
     "text": [
      "The AMAZON runs through BRAZIL\n",
      "The NILE runs through EGYPT\n",
      "The YANGTZE runs through CHINA\n"
     ]
    }
   ],
   "source": [
    "for k,v in rivers.items():\n",
    "    print(f\"The {k.upper()} runs through {v.upper()}\")"
   ]
  },
  {
   "cell_type": "markdown",
   "metadata": {},
   "source": [
    "# Q15:\n",
    "\n",
    "\n",
    "Make several dictionaries, where the name of each dictionary is the name of a pet. In each dictionary, include the kind of animal and the owner’s name. Store these dictionaries in a list called pets. Next, loop through your list and as you do print everything you know about each pet."
   ]
  },
  {
   "cell_type": "code",
   "execution_count": 32,
   "metadata": {},
   "outputs": [
    {
     "name": "stdout",
     "output_type": "stream",
     "text": [
      "BUDDY is a  DOG of  KHIZAR\n",
      "TOM is a  CAT of  ASHAR\n",
      "CHARLIE is a  PARROT of  SAQLAIN\n"
     ]
    }
   ],
   "source": [
    "Buddy = {\"kind\":\"Dog\" , \"owner's name\":\"khizar\", \"name\":\"Buddy\"}\n",
    "Tom = {\"kind\":\"Cat\" , \"owner's name\":\"Ashar\" , \"name\":\"Tom\"}\n",
    "Charlie = {\"kind\":\"Parrot\" , \"owner's name\":\"Saqlain\" , \"name\":\"Charlie\"}\n",
    "pets = [Buddy,Tom,Charlie]\n",
    "for x in pets:\n",
    "    print(x[\"name\"].upper() , \"is a \" , x[\"kind\"].upper() , \"of \" , x[\"owner's name\"].upper())"
   ]
  },
  {
   "cell_type": "code",
   "execution_count": null,
   "metadata": {},
   "outputs": [],
   "source": []
  }
 ],
 "metadata": {
  "kernelspec": {
   "display_name": "Python 3",
   "language": "python",
   "name": "python3"
  },
  "language_info": {
   "codemirror_mode": {
    "name": "ipython",
    "version": 3
   },
   "file_extension": ".py",
   "mimetype": "text/x-python",
   "name": "python",
   "nbconvert_exporter": "python",
   "pygments_lexer": "ipython3",
   "version": "3.7.3"
  }
 },
 "nbformat": 4,
 "nbformat_minor": 2
}
